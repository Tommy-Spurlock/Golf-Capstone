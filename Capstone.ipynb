{
 "cells": [
  {
   "cell_type": "code",
   "execution_count": null,
   "id": "27f1b652-2fe2-4838-b96b-47bf8c350228",
   "metadata": {},
   "outputs": [],
   "source": [
    "from functools import reduce\n",
    "import pandas as pd\n",
    "import requests\n",
    "import json\n",
    "import requests\n",
    "from bs4 import BeautifulSoup as BS\n",
    "import matplotlib.pyplot as plt\n",
    "import seaborn as sns\n",
    "import numpy as np \n"
   ]
  },
  {
   "cell_type": "code",
   "execution_count": null,
   "id": "5420e4b7-c095-4a42-bc31-4577579fb5cb",
   "metadata": {},
   "outputs": [],
   "source": [
    "api_key = '9f3954468e83bf6b8bf8ec214051'"
   ]
  },
  {
   "cell_type": "code",
   "execution_count": null,
   "id": "6fb3f131-1ed2-40af-9032-aad96be47f60",
   "metadata": {},
   "outputs": [],
   "source": [
    "endpoint_appr = 'https://feeds.datagolf.com/preds/approach-skill?'"
   ]
  },
  {
   "cell_type": "code",
   "execution_count": null,
   "id": "2eb7f03a-17a3-4612-b1bf-286859ec7d74",
   "metadata": {},
   "outputs": [],
   "source": [
    "endpoint_rank = 'https://feeds.datagolf.com/preds/get-dg-rankings?'"
   ]
  },
  {
   "cell_type": "code",
   "execution_count": null,
   "id": "fbbe159a-d6be-4fd5-800b-86dc2d24f97a",
   "metadata": {},
   "outputs": [],
   "source": [
    " params = {\n",
    "    \n",
    "    'key' : api_key\n",
    "}"
   ]
  },
  {
   "cell_type": "code",
   "execution_count": null,
   "id": "2a2d60cb-ee24-473a-985b-eaf478c78b04",
   "metadata": {},
   "outputs": [],
   "source": [
    "response_appr = requests.get(endpoint_appr, params = params)\n",
    "response_appr"
   ]
  },
  {
   "cell_type": "code",
   "execution_count": null,
   "id": "ad60164a-25b9-4dff-acbf-96e582ac7f3b",
   "metadata": {},
   "outputs": [],
   "source": [
    "response_rank = requests.get(endpoint_rank, params = params)\n",
    "response_rank"
   ]
  },
  {
   "cell_type": "code",
   "execution_count": null,
   "id": "f13a1b72-2712-4018-af5c-a723d2dd51bb",
   "metadata": {},
   "outputs": [],
   "source": [
    "res_appr = response_appr.json()"
   ]
  },
  {
   "cell_type": "code",
   "execution_count": null,
   "id": "bfede4d6-68f8-46bb-a02e-57510624c212",
   "metadata": {},
   "outputs": [],
   "source": [
    "res_rank = response_rank.json()"
   ]
  },
  {
   "cell_type": "code",
   "execution_count": null,
   "id": "05a352d6-93cc-4071-ae10-718bd247243d",
   "metadata": {
    "scrolled": true
   },
   "outputs": [],
   "source": [
    "res_appr['data']"
   ]
  },
  {
   "cell_type": "code",
   "execution_count": null,
   "id": "bd030344-9079-430c-bd03-3c2a0df22d91",
   "metadata": {},
   "outputs": [],
   "source": [
    "approach = pd.DataFrame(res_appr['data'])"
   ]
  },
  {
   "cell_type": "code",
   "execution_count": null,
   "id": "66351420-7810-45fb-9dc7-1c1fe762bb49",
   "metadata": {},
   "outputs": [],
   "source": [
    "rank =pd.DataFrame(res_rank['rankings'])"
   ]
  },
  {
   "cell_type": "code",
   "execution_count": null,
   "id": "9434fa8e-4565-4e38-bb93-f61716db7f13",
   "metadata": {},
   "outputs": [],
   "source": [
    "cols = list(approach.columns.values)\n"
   ]
  },
  {
   "cell_type": "code",
   "execution_count": null,
   "id": "57a47042-2aff-423a-b44f-99873717d36c",
   "metadata": {},
   "outputs": [],
   "source": [
    "cols"
   ]
  },
  {
   "cell_type": "code",
   "execution_count": null,
   "id": "659f55a2-4d0a-4340-891b-0cb05cca8b12",
   "metadata": {},
   "outputs": [],
   "source": [
    "approach = approach[['player_name',\n",
    " '100_150_fw_gir_rate',\n",
    " '100_150_fw_good_shot_rate',\n",
    " '100_150_fw_low_data_indicator',\n",
    " '100_150_fw_poor_shot_avoid_rate',\n",
    " '100_150_fw_proximity_per_shot',\n",
    " '100_150_fw_sg_per_shot',\n",
    " '100_150_fw_shot_count',\n",
    " '150_200_fw_gir_rate',\n",
    " '150_200_fw_good_shot_rate',\n",
    " '150_200_fw_low_data_indicator',\n",
    " '150_200_fw_poor_shot_avoid_rate',\n",
    " '150_200_fw_proximity_per_shot',\n",
    " '150_200_fw_sg_per_shot',\n",
    " '150_200_fw_shot_count',\n",
    " '50_100_fw_gir_rate',\n",
    " '50_100_fw_good_shot_rate',\n",
    " '50_100_fw_low_data_indicator',\n",
    " '50_100_fw_poor_shot_avoid_rate',\n",
    " '50_100_fw_proximity_per_shot',\n",
    " '50_100_fw_sg_per_shot',\n",
    " '50_100_fw_shot_count',\n",
    " 'dg_id',\n",
    " 'over_150_rgh_gir_rate',\n",
    " 'over_150_rgh_good_shot_rate',\n",
    " 'over_150_rgh_low_data_indicator',\n",
    " 'over_150_rgh_poor_shot_avoid_rate',\n",
    " 'over_150_rgh_proximity_per_shot',\n",
    " 'over_150_rgh_sg_per_shot',\n",
    " 'over_150_rgh_shot_count',\n",
    " 'over_200_fw_gir_rate',\n",
    " 'over_200_fw_good_shot_rate',\n",
    " 'over_200_fw_low_data_indicator',\n",
    " 'over_200_fw_poor_shot_avoid_rate',\n",
    " 'over_200_fw_proximity_per_shot',\n",
    " 'over_200_fw_sg_per_shot',\n",
    " 'over_200_fw_shot_count',\n",
    " 'under_150_rgh_gir_rate',\n",
    " 'under_150_rgh_good_shot_rate',\n",
    " 'under_150_rgh_low_data_indicator',\n",
    " 'under_150_rgh_poor_shot_avoid_rate',\n",
    " 'under_150_rgh_proximity_per_shot',\n",
    " 'under_150_rgh_sg_per_shot',\n",
    " 'under_150_rgh_shot_count']]\n"
   ]
  },
  {
   "cell_type": "code",
   "execution_count": null,
   "id": "bf892288-9644-4403-92bd-54e7d803c544",
   "metadata": {},
   "outputs": [],
   "source": [
    "approach.shape"
   ]
  },
  {
   "cell_type": "code",
   "execution_count": null,
   "id": "410427e8-82e5-4698-a3f2-1e3df6474905",
   "metadata": {},
   "outputs": [],
   "source": [
    "rank.shape"
   ]
  },
  {
   "cell_type": "code",
   "execution_count": null,
   "id": "ca36cf43-752e-442f-b417-e29366addad5",
   "metadata": {},
   "outputs": [],
   "source": [
    "data_golf_df = pd.merge(approach, rank, \n",
    "         left_on = 'player_name', right_on = 'player_name', \n",
    "        how = 'inner')"
   ]
  },
  {
   "cell_type": "code",
   "execution_count": null,
   "id": "ba019d70-c9a5-4ad7-a67a-d567fc7609fe",
   "metadata": {},
   "outputs": [],
   "source": [
    "data_golf_df.head()"
   ]
  },
  {
   "cell_type": "code",
   "execution_count": null,
   "id": "d65de66b-7728-40cb-852a-583c0aff8c4b",
   "metadata": {},
   "outputs": [],
   "source": [
    "dr_distance_pg = pd.read_csv('./data/driving_distance_stats.csv')\n",
    "dr_accuracy_pg = pd.read_csv('./data/driving_accuracy_stats.csv')"
   ]
  },
  {
   "cell_type": "code",
   "execution_count": null,
   "id": "30097b56-5831-4d1f-a84d-ad2f4bc54734",
   "metadata": {},
   "outputs": [],
   "source": [
    "driving_pga =  pd.merge(dr_distance_pg, dr_accuracy_pg, \n",
    "         left_on = 'PLAYER_ID', right_on = 'PLAYER_ID', \n",
    "        how = 'inner')\n"
   ]
  },
  {
   "cell_type": "code",
   "execution_count": null,
   "id": "64d66f20-d673-496a-b1be-b264921b5020",
   "metadata": {},
   "outputs": [],
   "source": [
    "cols_pga = list(driving_pga.columns.values)\n",
    "cols_pga"
   ]
  },
  {
   "cell_type": "code",
   "execution_count": null,
   "id": "bf75858d-036e-476f-befc-e1358ecb720b",
   "metadata": {},
   "outputs": [],
   "source": [
    "driving_pga = driving_pga[[\n",
    " 'PLAYER_x',\n",
    " 'PLAYER_ID',\n",
    " 'TOTAL DISTANCE',\n",
    " 'TOTAL DRIVES',\n",
    " 'AVG',\n",
    " 'FAIRWAYS HIT',\n",
    " 'POSSIBLE FAIRWAYS',\n",
    " '%']]\n"
   ]
  },
  {
   "cell_type": "code",
   "execution_count": null,
   "id": "d16d11f1-5a4a-4a96-8beb-39b90deeccb2",
   "metadata": {},
   "outputs": [],
   "source": [
    "driving_pga = driving_pga.rename(columns = {'PLAYER_x': 'PLAYER'})"
   ]
  },
  {
   "cell_type": "code",
   "execution_count": null,
   "id": "0481a6ea-9f8a-4828-accf-5898f5f60096",
   "metadata": {},
   "outputs": [],
   "source": [
    "driving_pga[['TOTAL DISTANCE', 'AVG']].corr()"
   ]
  },
  {
   "cell_type": "code",
   "execution_count": null,
   "id": "da37a912-bd16-4029-b24e-2746143218fe",
   "metadata": {},
   "outputs": [],
   "source": [
    "driving_pga['%'] = driving_pga['%'].str[:-1]"
   ]
  },
  {
   "cell_type": "code",
   "execution_count": null,
   "id": "83d6a08b-8dec-468e-a7df-b2713e7ad042",
   "metadata": {},
   "outputs": [],
   "source": [
    "driving_pga['%']"
   ]
  },
  {
   "cell_type": "code",
   "execution_count": null,
   "id": "f419f792-a7ff-4e3b-83f5-e29007a3f698",
   "metadata": {},
   "outputs": [],
   "source": [
    "driving_pga['%'] = pd.to_numeric(driving_pga['%'])\n"
   ]
  },
  {
   "cell_type": "markdown",
   "id": "1982221b-896b-455a-897b-997459bae878",
   "metadata": {},
   "source": [
    "# Scatter plots of D_Distance vs D_Accuracy #"
   ]
  },
  {
   "cell_type": "code",
   "execution_count": null,
   "id": "3b342e04-d2d4-453f-9035-7eabf9b3a2bc",
   "metadata": {},
   "outputs": [],
   "source": [
    "plt.scatter(driving_pga['%'], driving_pga['AVG']) \n"
   ]
  },
  {
   "cell_type": "code",
   "execution_count": null,
   "id": "c281daf6-002d-4bd3-b874-2217d946187e",
   "metadata": {},
   "outputs": [],
   "source": [
    "sns.scatterplot(data=driving_pga, x='%', y='AVG')\n",
    "plt.title('Driving Distance vs Driving Accuracy')\n",
    "plt.xlabel('Fairway in Regulation %')\n",
    "plt.ylabel('Distance in yd')\n",
    "# plt.show()\n",
    "plt.savefig('driving_pct.png')"
   ]
  },
  {
   "cell_type": "code",
   "execution_count": null,
   "id": "2831f060-bf20-4036-afaa-9d2d30b0cc1c",
   "metadata": {},
   "outputs": [],
   "source": []
  },
  {
   "cell_type": "code",
   "execution_count": null,
   "id": "25f0ef1e-1489-4c68-966a-cdaa310cc8f4",
   "metadata": {},
   "outputs": [],
   "source": []
  },
  {
   "cell_type": "code",
   "execution_count": null,
   "id": "59811229-9f96-408a-a677-561c7b98da3d",
   "metadata": {},
   "outputs": [],
   "source": [
    "gir_pg = pd.read_csv('./data/gir_stats.csv')"
   ]
  },
  {
   "cell_type": "code",
   "execution_count": null,
   "id": "53f97da6-30aa-4162-b2f2-5d862e6a496e",
   "metadata": {},
   "outputs": [],
   "source": [
    "gir_i100_pct = pd.read_csv('./data/gir_i100pct.csv')\n",
    "gir_100_125_pct = pd.read_csv('./data/gir_100-125pct.csv')\n",
    "gir_125_150_pct = pd.read_csv('./data/gir_125-150pct.csv')\n",
    "gir_150_175_pct = pd.read_csv('./data/gir_150-175pct.csv')\n",
    "gir_175_200_pct = pd.read_csv('./data/gir_175-200pct.csv')\n",
    "gir_o200_pct = pd.read_csv('./data/gir_o200pct.csv')\n",
    "gir_i100_pct"
   ]
  },
  {
   "cell_type": "code",
   "execution_count": null,
   "id": "74e721e6-801b-42e3-b672-288df1a42a27",
   "metadata": {},
   "outputs": [],
   "source": [
    "cols_gir = list(gir_i100_pct.columns.values)\n",
    "cols_gir"
   ]
  },
  {
   "cell_type": "code",
   "execution_count": null,
   "id": "00e56e70-6188-440c-b82b-ed4f88084a8d",
   "metadata": {},
   "outputs": [],
   "source": [
    "gir_i100_pct['%'] = gir_i100_pct['%'].str[:-1]\n",
    "gir_100_125_pct['%'] = gir_100_125_pct['%'].str[:-1]\n",
    "gir_125_150_pct['%'] = gir_125_150_pct['%'].str[:-1]\n",
    "gir_150_175_pct['%'] = gir_150_175_pct['%'].str[:-1]\n",
    "gir_175_200_pct['%'] = gir_175_200_pct['%'].str[:-1]\n",
    "gir_o200_pct['%'] = gir_o200_pct['%'].str[:-1]"
   ]
  },
  {
   "cell_type": "code",
   "execution_count": null,
   "id": "27bc3ed7-982a-4141-8f3f-0aa752cab958",
   "metadata": {},
   "outputs": [],
   "source": [
    "gir_i100_pct['%']"
   ]
  },
  {
   "cell_type": "code",
   "execution_count": null,
   "id": "4f455409-3d2c-4d76-a2a5-47f9aa0375ce",
   "metadata": {},
   "outputs": [],
   "source": [
    "gir_i100_pct['%'] = pd.to_numeric(gir_i100_pct['%'])\n",
    "gir_100_125_pct['%'] = pd.to_numeric(gir_100_125_pct['%'])\n",
    "gir_125_150_pct['%'] = pd.to_numeric(gir_125_150_pct['%'])\n",
    "gir_150_175_pct['%'] = pd.to_numeric(gir_150_175_pct['%'])\n",
    "gir_175_200_pct['%'] = pd.to_numeric(gir_175_200_pct['%'])\n",
    "gir_o200_pct['%'] = pd.to_numeric(gir_o200_pct['%'])\n"
   ]
  },
  {
   "cell_type": "code",
   "execution_count": null,
   "id": "01636703-8b82-4953-975f-1e942ac95b30",
   "metadata": {},
   "outputs": [],
   "source": [
    "\n",
    "gir_150_175_pct['%'].describe()"
   ]
  },
  {
   "cell_type": "code",
   "execution_count": null,
   "id": "5211ca7e-220d-4a69-849f-513a27253f17",
   "metadata": {},
   "outputs": [],
   "source": []
  },
  {
   "cell_type": "code",
   "execution_count": null,
   "id": "ebaee442-964f-4678-a666-7bd92e2d6b8d",
   "metadata": {},
   "outputs": [],
   "source": [
    "fapp_i100_pg = pd.read_csv('./data/fapp_i100_stats.csv')\n",
    "fapp_100_125_pg = pd.read_csv('./data/fapp_100-125_stats.csv')\n",
    "fapp_125_150_pg = pd.read_csv('./data/fapp_125-150_stats.csv')\n",
    "fapp_150_175_pg = pd.read_csv('./data/fapp_150-175_stats.csv')\n",
    "fapp_175_200_pg = pd.read_csv('./data/fapp_175-200_stats.csv')\n",
    "fapp_o200_pg = pd.read_csv('./data/fapp_o200_stats.csv')\n"
   ]
  },
  {
   "cell_type": "code",
   "execution_count": null,
   "id": "f4e8f658-4727-40dc-a26d-417357357bf5",
   "metadata": {},
   "outputs": [],
   "source": [
    "rapp_i100_pg = pd.read_csv('./data/rapp_i100_stats.csv')\n",
    "rapp_100_125_pg = pd.read_csv('./data/rapp_100-125_stats.csv')\n",
    "rapp_125_150_pg = pd.read_csv('./data/rapp_125-150_stats.csv')\n",
    "rapp_150_175_pg = pd.read_csv('./data/rapp_150-175_stats.csv')\n",
    "rapp_175_200_pg = pd.read_csv('./data/rapp_175-200_stats.csv')\n",
    "rapp_o200_pg = pd.read_csv('./data/rapp_o200_stats.csv')"
   ]
  },
  {
   "cell_type": "code",
   "execution_count": null,
   "id": "b16bacb3-ebef-4ee3-8fd5-f79d61043124",
   "metadata": {},
   "outputs": [],
   "source": []
  },
  {
   "cell_type": "code",
   "execution_count": null,
   "id": "28a06c52-dcc0-4187-8676-b52e153b0f45",
   "metadata": {},
   "outputs": [],
   "source": [
    "i100apptotal =  pd.merge(fapp_i100_pg, rapp_i100_pg, \n",
    "         left_on = 'PLAYER_ID', right_on = 'PLAYER_ID', \n",
    "        how = 'inner')"
   ]
  },
  {
   "cell_type": "code",
   "execution_count": null,
   "id": "1a6f6845-e7d6-4df9-bd78-0d234824b227",
   "metadata": {},
   "outputs": [],
   "source": [
    "apptotal_100_125 =  pd.merge(fapp_100_125_pg, rapp_100_125_pg, \n",
    "         left_on = 'PLAYER_ID', right_on = 'PLAYER_ID', \n",
    "        how = 'inner')"
   ]
  },
  {
   "cell_type": "code",
   "execution_count": null,
   "id": "77515a97-28a0-43ed-a9c4-72ae3c3824c0",
   "metadata": {},
   "outputs": [],
   "source": [
    "apptotal_125_150 =  pd.merge(fapp_125_150_pg, rapp_125_150_pg, \n",
    "         left_on = 'PLAYER_ID', right_on = 'PLAYER_ID', \n",
    "        how = 'inner')"
   ]
  },
  {
   "cell_type": "code",
   "execution_count": null,
   "id": "fb71f4a6-1eff-4c19-83f3-b38382e09326",
   "metadata": {},
   "outputs": [],
   "source": [
    "apptotal_150_175 =  pd.merge(fapp_150_175_pg, rapp_150_175_pg, \n",
    "         left_on = 'PLAYER_ID', right_on = 'PLAYER_ID', \n",
    "        how = 'inner')"
   ]
  },
  {
   "cell_type": "code",
   "execution_count": null,
   "id": "cf67341b-e3f9-41d5-8f53-d168252d938f",
   "metadata": {},
   "outputs": [],
   "source": [
    "apptotal_175_200 =  pd.merge(fapp_175_200_pg, rapp_175_200_pg, \n",
    "         left_on = 'PLAYER_ID', right_on = 'PLAYER_ID', \n",
    "        how = 'inner')"
   ]
  },
  {
   "cell_type": "code",
   "execution_count": null,
   "id": "3bdf624a-7d98-4f34-9a3d-857fe35dac20",
   "metadata": {},
   "outputs": [],
   "source": [
    "o200apptotal =  pd.merge(fapp_o200_pg, rapp_o200_pg, \n",
    "         left_on = 'PLAYER_ID', right_on = 'PLAYER_ID', \n",
    "        how = 'inner')"
   ]
  },
  {
   "cell_type": "code",
   "execution_count": null,
   "id": "b59d3ea8-9dc5-45c5-ba5c-d33275a7d674",
   "metadata": {},
   "outputs": [],
   "source": [
    "o200apptotal"
   ]
  },
  {
   "cell_type": "markdown",
   "id": "83e05095-c9a2-409a-891a-2d2336e2dec4",
   "metadata": {},
   "source": [
    "# change columns and rename #"
   ]
  },
  {
   "cell_type": "code",
   "execution_count": null,
   "id": "95be8228-44c1-448d-bf12-b7c312d35eab",
   "metadata": {},
   "outputs": [],
   "source": [
    "cols_i100 = list(i100apptotal.columns.values)\n",
    "cols_i100"
   ]
  },
  {
   "cell_type": "code",
   "execution_count": null,
   "id": "084baaef-c631-47b0-b169-6dce6976c846",
   "metadata": {},
   "outputs": [],
   "source": [
    "i100apptotal = i100apptotal[[\n",
    " 'PLAYER_x',\n",
    " 'PLAYER_ID',\n",
    " 'AVG_x',\n",
    " 'TOTAL DISTANCE (FEET)_x',\n",
    " '# OF ATTEMPTS_x',\n",
    " 'RELATIVE TO PAR_x',\n",
    " 'AVG_y',\n",
    " 'TOTAL DISTANCE (FEET)_y',\n",
    " '# OF ATTEMPTS_y',\n",
    " 'RELATIVE TO PAR_y']]\n"
   ]
  },
  {
   "cell_type": "code",
   "execution_count": null,
   "id": "49dc0f3b-b1f5-4f1b-baf1-5b161f7c6fe4",
   "metadata": {},
   "outputs": [],
   "source": [
    "apptotal_100_125 = apptotal_100_125[[\n",
    " 'PLAYER_x',\n",
    " 'PLAYER_ID',\n",
    " 'AVG_x',\n",
    " 'TOTAL DISTANCE (FEET)_x',\n",
    " '# OF ATTEMPTS_x',\n",
    " 'RELATIVE TO PAR_x',\n",
    " 'AVG_y',\n",
    " 'TOTAL DISTANCE (FEET)_y',\n",
    " '# OF ATTEMPTS_y',\n",
    " 'RELATIVE TO PAR_y']]"
   ]
  },
  {
   "cell_type": "code",
   "execution_count": null,
   "id": "4936d8c6-17dc-46b4-9f58-74ab083feb7e",
   "metadata": {},
   "outputs": [],
   "source": [
    "apptotal_125_150 = apptotal_125_150[[\n",
    " 'PLAYER_x',\n",
    " 'PLAYER_ID',\n",
    " 'AVG_x',\n",
    " 'TOTAL DISTANCE (FEET)_x',\n",
    " '# OF ATTEMPTS_x',\n",
    " 'RELATIVE TO PAR_x',\n",
    " 'AVG_y',\n",
    " 'TOTAL DISTANCE (FEET)_y',\n",
    " '# OF ATTEMPTS_y',\n",
    " 'RELATIVE TO PAR_y']]"
   ]
  },
  {
   "cell_type": "code",
   "execution_count": null,
   "id": "454b0c4e-56f7-4b50-9b91-eb290093abd8",
   "metadata": {},
   "outputs": [],
   "source": [
    "apptotal_150_175 = apptotal_150_175[[\n",
    " 'PLAYER_x',\n",
    " 'PLAYER_ID',\n",
    " 'AVG_x',\n",
    " 'TOTAL DISTANCE (FEET)_x',\n",
    " '# OF ATTEMPTS_x',\n",
    " 'RELATIVE TO PAR_x',\n",
    " 'AVG_y',\n",
    " 'TOTAL DISTANCE (FEET)_y',\n",
    " '# OF ATTEMPTS_y',\n",
    " 'RELATIVE TO PAR_y']]"
   ]
  },
  {
   "cell_type": "code",
   "execution_count": null,
   "id": "1364d664-8987-40d2-8eee-3f400ebab80e",
   "metadata": {},
   "outputs": [],
   "source": [
    "apptotal_175_200 = apptotal_175_200[[\n",
    " 'PLAYER_x',\n",
    " 'PLAYER_ID',\n",
    " 'AVG_x',\n",
    " 'TOTAL DISTANCE (FEET)_x',\n",
    " '# OF ATTEMPTS_x',\n",
    " 'RELATIVE TO PAR_x',\n",
    " 'AVG_y',\n",
    " 'TOTAL DISTANCE (FEET)_y',\n",
    " '# OF ATTEMPTS_y',\n",
    " 'RELATIVE TO PAR_y']]"
   ]
  },
  {
   "cell_type": "code",
   "execution_count": null,
   "id": "8b9b48ca-3158-49b4-a8d2-e2c1c7098ca8",
   "metadata": {},
   "outputs": [],
   "source": [
    "o200apptotal = o200apptotal[[\n",
    " 'PLAYER_x',\n",
    " 'PLAYER_ID',\n",
    " 'AVG_x',\n",
    " 'TOTAL DISTANCE (FEET)_x',\n",
    " '# OF ATTEMPTS_x',\n",
    " 'RELATIVE TO PAR_x',\n",
    " 'AVG_y',\n",
    " 'TOTAL DISTANCE (FEET)_y',\n",
    " '# OF ATTEMPTS_y',\n",
    " 'RELATIVE TO PAR_y']]"
   ]
  },
  {
   "cell_type": "code",
   "execution_count": null,
   "id": "c39de0dd-3b71-4daa-895e-41bae5a458ee",
   "metadata": {},
   "outputs": [],
   "source": [
    "i100apptotal = i100apptotal.rename(columns = {'PLAYER_x': 'PLAYER', 'AVG_x': 'FAIRWAY AVG', 'TOTAL DISTANCE (FEET)_x': 'FAIRWAY TOTAL DISTANCE (FEET)', '# OF ATTEMPTS_x':'FAIRWAY # OF ATTEMPTS',\n",
    "                                             'RELATIVE TO PAR_x': 'FAIRWAY RELATIVE TO PAR','AVG_y': 'ROUGH AVG', 'TOTAL DISTANCE (FEET)_y':  'ROUGH TOTAL DISTANCE (FEET)',  '# OF ATTEMPTS_y': 'ROUGH # OF ATTEMPTS',\n",
    "                                             'RELATIVE TO PAR_y': 'ROUGH RELATIVE TO PAR'})"
   ]
  },
  {
   "cell_type": "code",
   "execution_count": null,
   "id": "8a6b9623-be0f-467c-b276-e79730be572c",
   "metadata": {},
   "outputs": [],
   "source": [
    "apptotal_100_125 = apptotal_100_125.rename(columns = {'PLAYER_x': 'PLAYER', 'AVG_x': 'FAIRWAY AVG', 'TOTAL DISTANCE (FEET)_x': 'FAIRWAY TOTAL DISTANCE (FEET)', '# OF ATTEMPTS_x':'FAIRWAY # OF ATTEMPTS',\n",
    "                                             'RELATIVE TO PAR_x': 'FAIRWAY RELATIVE TO PAR','AVG_y': 'ROUGH AVG', 'TOTAL DISTANCE (FEET)_y':  'ROUGH TOTAL DISTANCE (FEET)',  '# OF ATTEMPTS_y': 'ROUGH # OF ATTEMPTS',\n",
    "                                             'RELATIVE TO PAR_y': 'ROUGH RELATIVE TO PAR'})"
   ]
  },
  {
   "cell_type": "code",
   "execution_count": null,
   "id": "43f698f0-2d26-4621-825b-ac2dfdc425cb",
   "metadata": {},
   "outputs": [],
   "source": [
    "apptotal_125_150 = apptotal_125_150.rename(columns = {'PLAYER_x': 'PLAYER', 'AVG_x': 'FAIRWAY AVG', 'TOTAL DISTANCE (FEET)_x': 'FAIRWAY TOTAL DISTANCE (FEET)', '# OF ATTEMPTS_x':'FAIRWAY # OF ATTEMPTS',\n",
    "                                             'RELATIVE TO PAR_x': 'FAIRWAY RELATIVE TO PAR','AVG_y': 'ROUGH AVG', 'TOTAL DISTANCE (FEET)_y':  'ROUGH TOTAL DISTANCE (FEET)',  '# OF ATTEMPTS_y': 'ROUGH # OF ATTEMPTS',\n",
    "                                             'RELATIVE TO PAR_y': 'ROUGH RELATIVE TO PAR'})"
   ]
  },
  {
   "cell_type": "code",
   "execution_count": null,
   "id": "678d5489-582b-4fe8-bfe6-b07fb837aebe",
   "metadata": {},
   "outputs": [],
   "source": [
    "apptotal_150_175 = apptotal_150_175.rename(columns = {'PLAYER_x': 'PLAYER', 'AVG_x': 'FAIRWAY AVG', 'TOTAL DISTANCE (FEET)_x': 'FAIRWAY TOTAL DISTANCE (FEET)', '# OF ATTEMPTS_x':'FAIRWAY # OF ATTEMPTS',\n",
    "                                             'RELATIVE TO PAR_x': 'FAIRWAY RELATIVE TO PAR','AVG_y': 'ROUGH AVG', 'TOTAL DISTANCE (FEET)_y':  'ROUGH TOTAL DISTANCE (FEET)',  '# OF ATTEMPTS_y': 'ROUGH # OF ATTEMPTS',\n",
    "                                             'RELATIVE TO PAR_y': 'ROUGH RELATIVE TO PAR'})"
   ]
  },
  {
   "cell_type": "code",
   "execution_count": null,
   "id": "11096d6c-22c3-4834-ae81-569f09b0764e",
   "metadata": {},
   "outputs": [],
   "source": [
    "apptotal_175_200 = apptotal_175_200.rename(columns = {'PLAYER_x': 'PLAYER', 'AVG_x': 'FAIRWAY AVG', 'TOTAL DISTANCE (FEET)_x': 'FAIRWAY TOTAL DISTANCE (FEET)', '# OF ATTEMPTS_x':'FAIRWAY # OF ATTEMPTS',\n",
    "                                             'RELATIVE TO PAR_x': 'FAIRWAY RELATIVE TO PAR','AVG_y': 'ROUGH AVG', 'TOTAL DISTANCE (FEET)_y':  'ROUGH TOTAL DISTANCE (FEET)',  '# OF ATTEMPTS_y': 'ROUGH # OF ATTEMPTS',\n",
    "                                             'RELATIVE TO PAR_y': 'ROUGH RELATIVE TO PAR'})"
   ]
  },
  {
   "cell_type": "code",
   "execution_count": null,
   "id": "1d820c65-e478-40e3-894f-92740682f115",
   "metadata": {},
   "outputs": [],
   "source": [
    "o200apptotal = o200apptotal.rename(columns = {'PLAYER_x': 'PLAYER', 'AVG_x': 'FAIRWAY AVG', 'TOTAL DISTANCE (FEET)_x': 'FAIRWAY TOTAL DISTANCE (FEET)', '# OF ATTEMPTS_x':'FAIRWAY # OF ATTEMPTS',\n",
    "                                             'RELATIVE TO PAR_x': 'FAIRWAY RELATIVE TO PAR','AVG_y': 'ROUGH AVG', 'TOTAL DISTANCE (FEET)_y':  'ROUGH TOTAL DISTANCE (FEET)',  '# OF ATTEMPTS_y': 'ROUGH # OF ATTEMPTS',\n",
    "                                             'RELATIVE TO PAR_y': 'ROUGH RELATIVE TO PAR'})"
   ]
  },
  {
   "cell_type": "code",
   "execution_count": null,
   "id": "5d5b3436-363a-4675-bfac-c3d823116603",
   "metadata": {},
   "outputs": [],
   "source": []
  },
  {
   "cell_type": "code",
   "execution_count": null,
   "id": "def5d7b6-efaf-40ab-a992-3036f743a490",
   "metadata": {},
   "outputs": [],
   "source": [
    "apptotal_150_175"
   ]
  },
  {
   "cell_type": "markdown",
   "id": "8151e905-f014-414c-9abb-4f065e65383a",
   "metadata": {},
   "source": [
    "# convert avg columns from object to float #"
   ]
  },
  {
   "cell_type": "code",
   "execution_count": null,
   "id": "17bc841f-f50d-4b1c-a1ed-f80a9a419064",
   "metadata": {},
   "outputs": [],
   "source": [
    "i100apptotal[\"FAIRWAY AVG\"] = (i100apptotal['FAIRWAY AVG'].str.split(\"'\").str[0].astype(int) * 12) + (\n",
    "    i100apptotal['FAIRWAY AVG'].str.split(\"'\").str[1].str[: -1].astype(int)\n",
    ")\n",
    "i100apptotal[\"ROUGH AVG\"] = (i100apptotal['ROUGH AVG'].str.split(\"'\").str[0].astype(int) * 12) + (\n",
    "    i100apptotal['ROUGH AVG'].str.split(\"'\").str[1].str[: -1].astype(int)\n",
    ")\n",
    "i100apptotal"
   ]
  },
  {
   "cell_type": "code",
   "execution_count": null,
   "id": "4ddc28df-5b1d-400e-b481-60d0fb46e1ba",
   "metadata": {},
   "outputs": [],
   "source": [
    "apptotal_100_125[\"FAIRWAY AVG\"] = (apptotal_100_125['FAIRWAY AVG'].str.split(\"'\").str[0].astype(int) * 12) + (\n",
    "   apptotal_100_125['FAIRWAY AVG'].str.split(\"'\").str[1].str[: -1].astype(int)\n",
    ")\n",
    "apptotal_100_125[\"ROUGH AVG\"] = (apptotal_100_125['ROUGH AVG'].str.split(\"'\").str[0].astype(int) * 12) + (\n",
    "    apptotal_100_125['ROUGH AVG'].str.split(\"'\").str[1].str[: -1].astype(int)\n",
    ")"
   ]
  },
  {
   "cell_type": "code",
   "execution_count": null,
   "id": "9e30e5a6-3a3a-4d1d-b8b4-b0c86a467348",
   "metadata": {},
   "outputs": [],
   "source": [
    "apptotal_125_150[\"FAIRWAY AVG\"] = (apptotal_125_150['FAIRWAY AVG'].str.split(\"'\").str[0].astype(int) * 12) + (\n",
    "   apptotal_125_150['FAIRWAY AVG'].str.split(\"'\").str[1].str[: -1].astype(int)\n",
    ")\n",
    "apptotal_125_150[\"ROUGH AVG\"] = (apptotal_125_150['ROUGH AVG'].str.split(\"'\").str[0].astype(int) * 12) + (\n",
    "    apptotal_125_150['ROUGH AVG'].str.split(\"'\").str[1].str[: -1].astype(int)\n",
    ")"
   ]
  },
  {
   "cell_type": "code",
   "execution_count": null,
   "id": "3989e078-1d8e-4b44-a32b-558cc493a687",
   "metadata": {},
   "outputs": [],
   "source": [
    "apptotal_150_175[\"FAIRWAY AVG\"] = (apptotal_150_175['FAIRWAY AVG'].str.split(\"'\").str[0].astype(int) * 12) + (\n",
    "   apptotal_150_175['FAIRWAY AVG'].str.split(\"'\").str[1].str[: -1].astype(int)\n",
    ")\n",
    "apptotal_150_175[\"ROUGH AVG\"] = (apptotal_150_175['ROUGH AVG'].str.split(\"'\").str[0].astype(int) * 12) + (\n",
    "    apptotal_150_175['ROUGH AVG'].str.split(\"'\").str[1].str[: -1].astype(int)\n",
    ")"
   ]
  },
  {
   "cell_type": "code",
   "execution_count": null,
   "id": "2bb79ecb-45c0-4f0d-84fc-11cd17997091",
   "metadata": {},
   "outputs": [],
   "source": [
    "apptotal_175_200[\"FAIRWAY AVG\"] = (apptotal_175_200['FAIRWAY AVG'].str.split(\"'\").str[0].astype(int) * 12) + (\n",
    "   apptotal_175_200['FAIRWAY AVG'].str.split(\"'\").str[1].str[: -1].astype(int)\n",
    ")\n",
    "apptotal_175_200[\"ROUGH AVG\"] = (apptotal_175_200['ROUGH AVG'].str.split(\"'\").str[0].astype(int) * 12) + (\n",
    "    apptotal_175_200['ROUGH AVG'].str.split(\"'\").str[1].str[: -1].astype(int)\n",
    ")"
   ]
  },
  {
   "cell_type": "code",
   "execution_count": null,
   "id": "ee98b99a-b6a0-4020-96c6-822d156fee82",
   "metadata": {},
   "outputs": [],
   "source": [
    "o200apptotal[\"FAIRWAY AVG\"] = (o200apptotal['FAIRWAY AVG'].str.split(\"'\").str[0].astype(int) * 12) + (\n",
    "   o200apptotal['FAIRWAY AVG'].str.split(\"'\").str[1].str[: -1].astype(int)\n",
    ")\n",
    "o200apptotal[\"ROUGH AVG\"] = (o200apptotal['ROUGH AVG'].str.split(\"'\").str[0].astype(int) * 12) + (\n",
    "    o200apptotal['ROUGH AVG'].str.split(\"'\").str[1].str[: -1].astype(int)\n",
    ")"
   ]
  },
  {
   "cell_type": "code",
   "execution_count": null,
   "id": "9a3a915f-064c-475e-8861-da47aa2a4409",
   "metadata": {},
   "outputs": [],
   "source": [
    "i100apptotal =  pd.merge(i100apptotal, gir_i100_pct[['RANK',\n",
    " 'PLAYER_ID',\n",
    " '%',\n",
    " 'GREENS HIT',\n",
    " 'TOTAL HOLES',\n",
    " 'RELATIVE TO PAR']], \n",
    "         left_on = 'PLAYER_ID', right_on = 'PLAYER_ID', \n",
    "        how = 'inner')"
   ]
  },
  {
   "cell_type": "code",
   "execution_count": null,
   "id": "7ed5adfc-4066-4a22-91e9-f279b96edb01",
   "metadata": {},
   "outputs": [],
   "source": [
    "apptotal_100_125 =  pd.merge(apptotal_100_125, gir_100_125_pct[['RANK',\n",
    " 'PLAYER_ID',\n",
    " '%',\n",
    " 'GREENS HIT',\n",
    " 'TOTAL HOLES',\n",
    " 'RELATIVE TO PAR']], \n",
    "         left_on = 'PLAYER_ID', right_on = 'PLAYER_ID', \n",
    "        how = 'inner')"
   ]
  },
  {
   "cell_type": "code",
   "execution_count": null,
   "id": "3c382a73-802b-4c79-aa6d-9ae2a6e29d8b",
   "metadata": {},
   "outputs": [],
   "source": [
    "apptotal_125_150 =  pd.merge(apptotal_125_150, gir_125_150_pct[['RANK',\n",
    " 'PLAYER_ID',\n",
    " '%',\n",
    " 'GREENS HIT',\n",
    " 'TOTAL HOLES',\n",
    " 'RELATIVE TO PAR']], \n",
    "         left_on = 'PLAYER_ID', right_on = 'PLAYER_ID', \n",
    "        how = 'inner')"
   ]
  },
  {
   "cell_type": "code",
   "execution_count": null,
   "id": "4231f147-98ad-4b1b-b77d-68d6f7d9ff81",
   "metadata": {},
   "outputs": [],
   "source": [
    "apptotal_150_175 =  pd.merge(apptotal_150_175, gir_150_175_pct[['RANK',\n",
    " 'PLAYER_ID',\n",
    " '%',\n",
    " 'GREENS HIT',\n",
    " 'TOTAL HOLES',\n",
    " 'RELATIVE TO PAR']], \n",
    "         left_on = 'PLAYER_ID', right_on = 'PLAYER_ID', \n",
    "        how = 'inner')"
   ]
  },
  {
   "cell_type": "code",
   "execution_count": null,
   "id": "9164813d-91b5-4f45-ba6c-30a7b121b74d",
   "metadata": {},
   "outputs": [],
   "source": [
    "apptotal_175_200 =  pd.merge(apptotal_175_200, gir_175_200_pct[['RANK',\n",
    " 'PLAYER_ID',\n",
    " '%',\n",
    " 'GREENS HIT',\n",
    " 'TOTAL HOLES',\n",
    " 'RELATIVE TO PAR']], \n",
    "         left_on = 'PLAYER_ID', right_on = 'PLAYER_ID', \n",
    "        how = 'inner')"
   ]
  },
  {
   "cell_type": "code",
   "execution_count": null,
   "id": "e7cd22e2-0914-404b-ac70-487d07700b27",
   "metadata": {},
   "outputs": [],
   "source": [
    "o200apptotal =  pd.merge(o200apptotal, gir_o200_pct[['RANK',\n",
    " 'PLAYER_ID',\n",
    " '%',\n",
    " 'GREENS HIT',\n",
    " 'TOTAL HOLES',\n",
    " 'RELATIVE TO PAR']], \n",
    "         left_on = 'PLAYER_ID', right_on = 'PLAYER_ID', \n",
    "        how = 'inner')"
   ]
  },
  {
   "cell_type": "code",
   "execution_count": null,
   "id": "bc74abc2-cfc0-4b12-91e1-21df4d22d850",
   "metadata": {},
   "outputs": [],
   "source": []
  },
  {
   "cell_type": "code",
   "execution_count": null,
   "id": "c418151d-3918-498c-9789-f1f7426561f2",
   "metadata": {},
   "outputs": [],
   "source": []
  },
  {
   "cell_type": "code",
   "execution_count": null,
   "id": "7161a1ca-989a-46ac-bf49-9ec9c21c4438",
   "metadata": {},
   "outputs": [],
   "source": [
    "plt.hist(i100apptotal['FAIRWAY AVG'], bins = 10, alpha=0.5, label='Fairway')\n",
    "plt.hist(i100apptotal['ROUGH AVG'], bins = 10, alpha=0.5, label='Rough')\n",
    "plt.legend(loc='upper right')\n",
    "plt.title('Fairway vs Rough in inches ')\n",
    "plt.show()"
   ]
  },
  {
   "cell_type": "code",
   "execution_count": null,
   "id": "8b5ae8f2-a49f-4940-bd86-774f37c1235a",
   "metadata": {},
   "outputs": [],
   "source": [
    "plt.hist(apptotal_125_150['FAIRWAY AVG'], bins = 10, alpha=0.5, label='Fairway')\n",
    "plt.hist(apptotal_125_150['ROUGH AVG'], bins = 10, alpha=0.5, label='Rough')\n",
    "plt.legend(loc='upper right')\n",
    "plt.title('Fairway vs Rough in inches ')\n",
    "plt.show()"
   ]
  },
  {
   "cell_type": "code",
   "execution_count": null,
   "id": "e17b8339-fbd2-4cf1-8e83-a887be1a36ec",
   "metadata": {},
   "outputs": [],
   "source": [
    "plt.hist(apptotal_175_200['FAIRWAY AVG'], bins = 10, alpha=0.5, label='Fairway')\n",
    "plt.hist(apptotal_175_200['ROUGH AVG'], bins = 10, alpha=0.5, label='Rough')\n",
    "plt.legend(loc='upper right')\n",
    "plt.title('Fairway vs Rough in inches ')\n",
    "plt.show()"
   ]
  },
  {
   "cell_type": "code",
   "execution_count": null,
   "id": "a12a11bf-8bad-4052-b859-19c6d74e9af2",
   "metadata": {},
   "outputs": [],
   "source": [
    "plt.hist(o200apptotal['FAIRWAY AVG'], bins = 10, alpha=0.5, label='Fairway')\n",
    "plt.hist(o200apptotal['ROUGH AVG'], bins = 10, alpha=0.5, label='Rough')\n",
    "plt.legend(loc='upper right')\n",
    "plt.title('Fairway vs Rough in inches ')\n",
    "plt.show()"
   ]
  },
  {
   "cell_type": "code",
   "execution_count": null,
   "id": "246892cc-0d20-4df7-a1d2-e5a2b5af101d",
   "metadata": {},
   "outputs": [],
   "source": [
    "plt.hist(o200apptotal['FAIRWAY AVG'], bins = 10, alpha=0.5, label='Fairway')\n",
    "plt.hist(o200apptotal['ROUGH AVG'], bins = 10, alpha=0.5, label='Rough')\n",
    "plt.legend(loc='upper right')\n",
    "plt.title('Fairway vs Rough in inches ')\n",
    "plt.show()"
   ]
  },
  {
   "cell_type": "code",
   "execution_count": null,
   "id": "95c8d6d9-4eae-469c-9bcf-980573ccc58c",
   "metadata": {},
   "outputs": [],
   "source": [
    "i100apptotal.to_csv('i100apptotal.csv', index=False)\n",
    "apptotal_100_125.to_csv('apptotal_100_125.csv', index=False)\n",
    "apptotal_125_150.to_csv('apptotal_125_150.csv', index=False)\n",
    "apptotal_150_175.to_csv('apptotal_150_175.csv', index=False)\n",
    "apptotal_175_200.to_csv('apptotal_175_200.csv', index=False)\n",
    "o200apptotal.to_csv('o200apptotal.csv', index=False)\n",
    "\n",
    "\n",
    "\n"
   ]
  },
  {
   "cell_type": "code",
   "execution_count": null,
   "id": "844c932f-3e5c-42d6-ac1b-91c6fe00341d",
   "metadata": {},
   "outputs": [],
   "source": [
    "\n",
    "o200apptotal.dtypes\n",
    "#"
   ]
  },
  {
   "cell_type": "code",
   "execution_count": null,
   "id": "708ee1c6-9f0f-4564-bee0-ae1956fe0462",
   "metadata": {},
   "outputs": [],
   "source": [
    "width = 0.2\n",
    "y1 = [i100apptotal['FAIRWAY AVG'].mean(), apptotal_100_125['FAIRWAY AVG'].mean(), apptotal_125_150['FAIRWAY AVG'].mean(), apptotal_150_175['FAIRWAY AVG'].mean(), apptotal_175_200['FAIRWAY AVG'].mean(), o200apptotal['FAIRWAY AVG'].mean()] \n",
    "y2 = [i100apptotal['ROUGH AVG'].mean(), apptotal_100_125['ROUGH AVG'].mean(), apptotal_125_150['ROUGH AVG'].mean(), apptotal_150_175['ROUGH AVG'].mean(), apptotal_175_200['ROUGH AVG'].mean(), o200apptotal['ROUGH AVG'].mean()] \n",
    "x = np.arange(6) \n",
    "\n",
    "plt.barh(x-0.2, y1, width , color='lightgreen')\n",
    "plt.barh(x, y2, width, color='darkgreen') \n",
    "plt.yticks(x, ['< 100yd', '100-125yd', '125-150yd', '150-175yd', '175-200yd',  '+200yd'], rotation = 45)\n",
    "plt.ylabel(\"Distance Out\") \n",
    "plt.xlabel(\"Inches from Hole\") \n",
    "plt.title('GIR Average Distance from Pin')\n",
    "plt.legend([\"Fairway\", \"Rough\"]) \n",
    "plt.savefig('gir_to_pin.png')"
   ]
  },
  {
   "cell_type": "code",
   "execution_count": null,
   "id": "bbc2b950-71d3-40f1-aae2-a8c14c54ee18",
   "metadata": {},
   "outputs": [],
   "source": [
    "putt_i5 = pd.read_csv('./data/putt_i5_stats.csv')\n",
    "putt_5_10 = pd.read_csv('./data/putt_5-10_stats.csv')\n",
    "putt_10_15 = pd.read_csv('./data/putt_10-15_stats.csv')\n",
    "putt_15_20 = pd.read_csv('./data/putt_15-20_stats.csv')\n",
    "putt_20_25 = pd.read_csv('./data/putt_20-25_stats.csv')\n",
    "putt_o25 = pd.read_csv('./data/putt_o25_stats.csv')"
   ]
  },
  {
   "cell_type": "code",
   "execution_count": null,
   "id": "5a118479-5c1e-4da6-ad29-1fe0f6ad13a5",
   "metadata": {},
   "outputs": [],
   "source": [
    "putt_10_15"
   ]
  },
  {
   "cell_type": "code",
   "execution_count": null,
   "id": "57319246-af7e-43d4-baa1-aa03af998545",
   "metadata": {},
   "outputs": [],
   "source": [
    "putt_i5['%'] = pd.to_numeric(putt_i5['%'].str[:-1])\n",
    "\n"
   ]
  },
  {
   "cell_type": "code",
   "execution_count": null,
   "id": "9ccea87a-3bf4-462a-bf3f-7433867e09b5",
   "metadata": {},
   "outputs": [],
   "source": [
    "putt_5_10['%'] = pd.to_numeric(putt_5_10['%'].str[:-1])\n"
   ]
  },
  {
   "cell_type": "code",
   "execution_count": null,
   "id": "0a42f4ae-4c33-44e4-b2c2-0d58baeac8e0",
   "metadata": {},
   "outputs": [],
   "source": [
    "putt_10_15['% MADE'] = pd.to_numeric(putt_10_15['% MADE'].str[:-1])\n"
   ]
  },
  {
   "cell_type": "code",
   "execution_count": null,
   "id": "6544fa44-5d27-40f8-b722-fcc7d36139d2",
   "metadata": {},
   "outputs": [],
   "source": [
    "putt_15_20['% MADE'] = pd.to_numeric(putt_15_20['% MADE'].str[:-1])\n"
   ]
  },
  {
   "cell_type": "code",
   "execution_count": null,
   "id": "364abe6c-916c-44df-a9cc-89178aab2785",
   "metadata": {},
   "outputs": [],
   "source": [
    "putt_20_25['% MADE'] = pd.to_numeric(putt_20_25['% MADE'].str[:-1])\n"
   ]
  },
  {
   "cell_type": "code",
   "execution_count": null,
   "id": "568cf038-b420-417c-8a32-3f9de18fa1eb",
   "metadata": {},
   "outputs": [],
   "source": [
    "putt_o25['% MADE'] = pd.to_numeric(putt_o25['% MADE'].str[:-1])\n"
   ]
  },
  {
   "cell_type": "code",
   "execution_count": null,
   "id": "47786344-973b-4d30-8b3b-9eacbf633539",
   "metadata": {},
   "outputs": [],
   "source": [
    "putt_5_10"
   ]
  },
  {
   "cell_type": "code",
   "execution_count": null,
   "id": "04878740-cbcb-4cb4-a806-21a326c04341",
   "metadata": {},
   "outputs": [],
   "source": [
    "x = [60,120,180,240,300, 460] \n",
    "y = [putt_i5['%'].mean(), putt_5_10['%'].mean() ,putt_10_15['% MADE'].mean() ,putt_15_20['% MADE'].mean() ,putt_20_25['% MADE'].mean() ,putt_o25['% MADE'].mean()] \n",
    "  \n",
    "# plot line \n",
    "plt.plot(x, y, marker = \".\",  color='green' ) \n",
    "plt.grid(True)\n",
    "\n",
    "plt.ylabel(\"Percent Putts Made\") \n",
    "plt.xlabel(\"Inches from Hole\") \n",
    "plt.title('Percent putts made per distance')\n",
    "plt.savefig('putt_pct.png')"
   ]
  },
  {
   "cell_type": "code",
   "execution_count": null,
   "id": "df430fcf-3f39-44fc-bd2d-523e594d869f",
   "metadata": {},
   "outputs": [],
   "source": [
    "scr_i10 = pd.read_csv('./data/scr_i10_stats.csv')\n",
    "scr_10_20 = pd.read_csv('./data/scr_10-20_stats.csv')\n",
    "scr_20_30 = pd.read_csv('./data/scr_20-30_stats.csv')\n",
    "scr_o30 = pd.read_csv('./data/scr_o30_stats.csv')\n"
   ]
  },
  {
   "cell_type": "code",
   "execution_count": null,
   "id": "d9be4d28-1fe6-45f0-ab31-7031db8a43aa",
   "metadata": {},
   "outputs": [],
   "source": [
    "scr_i10"
   ]
  },
  {
   "cell_type": "code",
   "execution_count": null,
   "id": "12461b04-43ea-4167-beeb-ae4ef51df904",
   "metadata": {},
   "outputs": [],
   "source": [
    "scr_i10[\"AVG DTP\"] = (scr_i10['AVG DTP'].str.split(\"'\").str[0].astype(int) * 12) + (\n",
    "    scr_i10['AVG DTP'].str.split(\"'\").str[1].str[: -1].astype(int)\n",
    ")\n"
   ]
  },
  {
   "cell_type": "code",
   "execution_count": null,
   "id": "e11934de-757a-4be7-a300-dac3b1dddc03",
   "metadata": {},
   "outputs": [],
   "source": [
    "scr_10_20[\"AVG DTP\"] = (scr_10_20['AVG DTP'].str.split(\"'\").str[0].astype(int) * 12) + (\n",
    "    scr_10_20['AVG DTP'].str.split(\"'\").str[1].str[: -1].astype(int)\n",
    ")\n"
   ]
  },
  {
   "cell_type": "code",
   "execution_count": null,
   "id": "aab6b6ae-abf3-4368-9281-b8bbb9ccdbb4",
   "metadata": {},
   "outputs": [],
   "source": [
    "scr_20_30[\"AVG DTP\"] = (scr_20_30['AVG DTP'].str.split(\"'\").str[0].astype(int) * 12) + (\n",
    "    scr_20_30['AVG DTP'].str.split(\"'\").str[1].str[: -1].astype(int)\n",
    ")\n"
   ]
  },
  {
   "cell_type": "code",
   "execution_count": null,
   "id": "691f9e3b-a869-415a-928f-29e3684d314a",
   "metadata": {},
   "outputs": [],
   "source": [
    "scr_o30[\"AVG DTP\"] = (scr_o30['AVG DTP'].str.split(\"'\").str[0].astype(int) * 12) + (\n",
    "    scr_o30['AVG DTP'].str.split(\"'\").str[1].str[: -1].astype(int)\n",
    ")\n"
   ]
  },
  {
   "cell_type": "code",
   "execution_count": null,
   "id": "78450ad1-31f0-486d-9725-f765e658bb7c",
   "metadata": {},
   "outputs": [],
   "source": [
    "width = 0.4\n",
    "y1 = [scr_i10['AVG DTP'].mean(), scr_10_20['AVG DTP'].mean(), scr_20_30['AVG DTP'].mean(), scr_o30['AVG DTP'].mean()] \n",
    "x = np.arange(4) \n",
    "\n",
    "plt.barh(x, y1, width , color='lightgreen')\n",
    "plt.yticks(x, ['< 10yd', '10-20yd', '20-30yd', '+30yd'], rotation = 45)\n",
    "plt.ylabel(\"Distance Out\") \n",
    "plt.xlabel(\"Inches from Pin\") \n",
    "plt.title('Scrambling Average Distance from Pin')\n",
    "# plt.legend([\"Fairway\", \"Rough\"]) \n",
    "plt.savefig('scr_to_pin.png')"
   ]
  },
  {
   "cell_type": "code",
   "execution_count": null,
   "id": "55fc5fed-eb2e-4b1b-8c96-8c7119926dac",
   "metadata": {},
   "outputs": [],
   "source": [
    "scoring = pd.read_csv('./data/scoring_average_stats.csv')\n",
    "ppr = pd.read_csv('./data/putts_per_round_stats.csv')\n",
    "scr = pd.read_csv('./data/scr_stats.csv')"
   ]
  },
  {
   "cell_type": "code",
   "execution_count": null,
   "id": "393e730c-59d1-41dc-b9d9-3ab877cf96fc",
   "metadata": {},
   "outputs": [],
   "source": [
    "scoring = scoring[['PLAYER_ID', 'AVG', 'TOTAL STROKES', 'TOTAL ROUNDS']]\n",
    "scoring = scoring.rename(columns = {'AVG': 'SCORE AVG' })\n"
   ]
  },
  {
   "cell_type": "code",
   "execution_count": null,
   "id": "d7203645-e4fc-4720-a7ce-131da0a212b0",
   "metadata": {},
   "outputs": [],
   "source": [
    "scoring_drive =  pd.merge(driving_pga, scoring, \n",
    "         left_on = 'PLAYER_ID', right_on = 'PLAYER_ID', \n",
    "        how = 'inner')"
   ]
  },
  {
   "cell_type": "code",
   "execution_count": null,
   "id": "760b2c05-c9c3-4943-a26a-8e099a9e7c5d",
   "metadata": {},
   "outputs": [],
   "source": [
    "scoring_drive \n",
    "scoring_drive = scoring_drive.rename(columns = {'%': 'FIR %' })\n"
   ]
  },
  {
   "cell_type": "code",
   "execution_count": null,
   "id": "712181e2-c77f-459b-82e9-13f36e83beac",
   "metadata": {},
   "outputs": [],
   "source": [
    "scoring_drive[['AVG','FIR %','SCORE AVG']].corr()"
   ]
  },
  {
   "cell_type": "code",
   "execution_count": null,
   "id": "58fb3aa0-a6c1-4714-b340-e6d3ee19a209",
   "metadata": {},
   "outputs": [],
   "source": [
    "gir_pg"
   ]
  },
  {
   "cell_type": "code",
   "execution_count": null,
   "id": "3809758a-6b62-44ee-8bb3-3a8036d202bd",
   "metadata": {},
   "outputs": [],
   "source": [
    "ppr = ppr"
   ]
  },
  {
   "cell_type": "code",
   "execution_count": null,
   "id": "c73e3bed-8a71-4781-8bf2-84697d220d62",
   "metadata": {},
   "outputs": [],
   "source": [
    "ppr = ppr[['PLAYER_ID', 'AVG', 'TOTAL PUTTS', 'TOTAL ROUNDS', 'LOW TOTAL PUTTS']]\n",
    "ppr = ppr.rename(columns = {'AVG': 'PUTT AVG', 'TOTAL ROUNDS': 'TOTAL ROUNDS PUTTS'})\n"
   ]
  },
  {
   "cell_type": "code",
   "execution_count": null,
   "id": "8913003d-eaf1-48cd-989a-3b77cab3d34f",
   "metadata": {},
   "outputs": [],
   "source": [
    "ppr"
   ]
  },
  {
   "cell_type": "code",
   "execution_count": null,
   "id": "e28ebb86-29c2-4be2-8c3b-84297f651287",
   "metadata": {},
   "outputs": [],
   "source": [
    "scoring_putt_drive =  pd.merge(ppr, scoring_drive, \n",
    "         left_on = 'PLAYER_ID', right_on = 'PLAYER_ID', \n",
    "        how = 'inner')"
   ]
  },
  {
   "cell_type": "code",
   "execution_count": null,
   "id": "998c9512-9c9f-4438-a643-9fa78d71fa10",
   "metadata": {},
   "outputs": [],
   "source": [
    "scoring_putt_drive['IRON & WEDGE'] = scoring_putt_drive['TOTAL STROKES'] - (scoring_putt_drive['TOTAL DRIVES'] + scoring_putt_drive['TOTAL PUTTS'])\n",
    "scoring_putt_drive"
   ]
  },
  {
   "cell_type": "code",
   "execution_count": null,
   "id": "b6dd7060-98fc-446e-a776-773fb87ae7c3",
   "metadata": {},
   "outputs": [],
   "source": [
    "scr = scr[['PLAYER_ID', '%', 'PAR OR BETTER', 'MISSED GIR']]"
   ]
  },
  {
   "cell_type": "code",
   "execution_count": null,
   "id": "cde13e20-a4bf-4854-9bd2-be0ba4f1db15",
   "metadata": {},
   "outputs": [],
   "source": [
    "scr = scr.rename(columns = {'%': 'SCRAMBLING%'})\n"
   ]
  },
  {
   "cell_type": "code",
   "execution_count": null,
   "id": "1008dc4c-4c18-4686-bb99-52f7e91ca380",
   "metadata": {},
   "outputs": [],
   "source": [
    "gir_pg"
   ]
  },
  {
   "cell_type": "code",
   "execution_count": null,
   "id": "5c6218eb-b42d-43b3-be45-7f4aa68a5202",
   "metadata": {},
   "outputs": [],
   "source": [
    "scoring_putt_scr_drive =  pd.merge( scoring_putt_drive, scr, \n",
    "         left_on = 'PLAYER_ID', right_on = 'PLAYER_ID', \n",
    "        how = 'inner')"
   ]
  },
  {
   "cell_type": "code",
   "execution_count": null,
   "id": "f54a47cc-ee23-451b-80b8-2a9f0022022e",
   "metadata": {},
   "outputs": [],
   "source": [
    "scoring_putt_scr_drive"
   ]
  },
  {
   "cell_type": "code",
   "execution_count": null,
   "id": "6f5453d5-1397-45b8-93c8-b330697c2707",
   "metadata": {},
   "outputs": [],
   "source": [
    "scoring_putt_scr_drive['APPROACH STROKES'] = scoring_putt_scr_drive['IRON & WEDGE'] - scoring_putt_scr_drive['MISSED GIR']"
   ]
  },
  {
   "cell_type": "code",
   "execution_count": null,
   "id": "30516eb2-b6be-4500-8760-11aefbd3434f",
   "metadata": {},
   "outputs": [],
   "source": [
    "scoring_putt_scr_drive"
   ]
  },
  {
   "cell_type": "code",
   "execution_count": null,
   "id": "ba1e1d74-e934-417b-89f5-afdd0a6d60e4",
   "metadata": {},
   "outputs": [],
   "source": [
    "scoring_putt_scr_drive.to_csv('total_strokes.csv', index=False)\n"
   ]
  },
  {
   "cell_type": "code",
   "execution_count": null,
   "id": "6257be97-27cf-4ce3-8624-0f1402440244",
   "metadata": {},
   "outputs": [],
   "source": []
  },
  {
   "cell_type": "code",
   "execution_count": null,
   "id": "4aff7525-8e7f-475e-aad9-03af090737e5",
   "metadata": {},
   "outputs": [],
   "source": []
  },
  {
   "cell_type": "code",
   "execution_count": null,
   "id": "9103d047-3e7f-4910-b977-32d0401d14b2",
   "metadata": {},
   "outputs": [],
   "source": []
  },
  {
   "cell_type": "code",
   "execution_count": null,
   "id": "240a85df-f1a5-4406-b3ae-824851362242",
   "metadata": {},
   "outputs": [],
   "source": []
  }
 ],
 "metadata": {
  "kernelspec": {
   "display_name": "Python 3 (ipykernel)",
   "language": "python",
   "name": "python3"
  },
  "language_info": {
   "codemirror_mode": {
    "name": "ipython",
    "version": 3
   },
   "file_extension": ".py",
   "mimetype": "text/x-python",
   "name": "python",
   "nbconvert_exporter": "python",
   "pygments_lexer": "ipython3",
   "version": "3.11.7"
  }
 },
 "nbformat": 4,
 "nbformat_minor": 5
}
